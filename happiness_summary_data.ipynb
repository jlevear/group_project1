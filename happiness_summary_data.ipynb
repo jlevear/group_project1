{
 "cells": [
  {
   "cell_type": "markdown",
   "metadata": {},
   "source": [
    "top 10/bottom 10 countries by year line plot\n",
    "US comparison\n",
    "scatterplots comparing columns\n",
    "delta/change over time for countries\n",
    "do a loc for individual countries\n",
    "regression analysis, line, correlation\n"
   ]
  },
  {
   "cell_type": "code",
   "execution_count": 2,
   "metadata": {},
   "outputs": [],
   "source": [
    "# Import dependancies and locate/read csv file\n",
    "import pandas as pd\n",
    "import matplotlib.pyplot as plt\n",
    "import numpy as np\n",
    "from scipy.stats import gaussian_kde\n",
    "\n",
    "happiness_file = 'Resources/happiness_years.csv'\n",
    "top_10_file = 'Resources/happiness_top_10.csv'\n",
    "bottom_10_file = 'Resources/happiness_bottom_10.csv'\n",
    "top_bottom__10_file = 'Resources/happiness_top_bottom_10.csv'\n",
    "\n",
    "\n",
    "happiness_df = pd.read_csv(happiness_file)\n",
    "top_10_df = pd.read_csv(top_10_file)\n",
    "bottom_10_df = pd.read_csv(bottom_10_file)\n",
    "top_bottom_10_df = pd.read_csv(top_bottom_10_file)"
   ]
  },
  {
   "cell_type": "code",
   "execution_count": 5,
   "metadata": {},
   "outputs": [],
   "source": []
  },
  {
   "cell_type": "code",
   "execution_count": 6,
   "metadata": {},
   "outputs": [],
   "source": []
  },
  {
   "cell_type": "code",
   "execution_count": 14,
   "metadata": {},
   "outputs": [],
   "source": []
  },
  {
   "cell_type": "code",
   "execution_count": 1,
   "metadata": {},
   "outputs": [
    {
     "ename": "NameError",
     "evalue": "name 'happiness_df' is not defined",
     "output_type": "error",
     "traceback": [
      "\u001b[1;31m---------------------------------------------------------------------------\u001b[0m",
      "\u001b[1;31mNameError\u001b[0m                                 Traceback (most recent call last)",
      "\u001b[1;32m<ipython-input-1-9ddc4d06a774>\u001b[0m in \u001b[0;36m<module>\u001b[1;34m\u001b[0m\n\u001b[0;32m      1\u001b[0m \u001b[1;31m# Happiness score vs GDP\u001b[0m\u001b[1;33m\u001b[0m\u001b[1;33m\u001b[0m\u001b[1;33m\u001b[0m\u001b[0m\n\u001b[0;32m      2\u001b[0m \u001b[1;33m\u001b[0m\u001b[0m\n\u001b[1;32m----> 3\u001b[1;33m \u001b[0mx_axis1\u001b[0m \u001b[1;33m=\u001b[0m \u001b[0mhappiness_df\u001b[0m\u001b[1;33m[\u001b[0m\u001b[1;34m'Happiness Rank'\u001b[0m\u001b[1;33m]\u001b[0m\u001b[1;33m\u001b[0m\u001b[1;33m\u001b[0m\u001b[0m\n\u001b[0m\u001b[0;32m      4\u001b[0m \u001b[0my_axis1\u001b[0m \u001b[1;33m=\u001b[0m \u001b[0mhappiness_df\u001b[0m\u001b[1;33m[\u001b[0m\u001b[1;34m'Economy (GDP per Capita)'\u001b[0m\u001b[1;33m]\u001b[0m\u001b[1;33m\u001b[0m\u001b[1;33m\u001b[0m\u001b[0m\n\u001b[0;32m      5\u001b[0m \u001b[1;33m\u001b[0m\u001b[0m\n",
      "\u001b[1;31mNameError\u001b[0m: name 'happiness_df' is not defined"
     ]
    }
   ],
   "source": [
    "# Happiness score vs GDP \n",
    "\n",
    "x_axis1 = happiness_df['Happiness Rank']\n",
    "y_axis1 = happiness_df['Economy (GDP per Capita)']\n",
    "\n",
    "x_axis2 = top_bottom_df['Happiness Rank']\n",
    "y_axis2 = top_bottom_df['Economy (GDP per Capita)']\n",
    "\n",
    "plt.figure(figsize=(12,6))\n",
    "\n",
    "# (code from url: \n",
    "# https://stackoverflow.com/questions/20105364/how-can-i-make-a-scatter-plot-colored-by-density-in-matplotlib)\n",
    "# (User: Joe Kington)\n",
    "xy = np.vstack([x,y])\n",
    "z = gaussian_kde(xy)(xy)\n",
    "\n",
    "plt.scatter(x, y, c=z, s=50, edgecolor='')\n",
    "\n",
    "plt.scatter(x_axis, y_axis, marker='o', facecolors='tab:blue', edgecolors='red', alpha=0.75)\n",
    "\n",
    "plt.ylabel('Economy (GDP per Capita)')\n",
    "plt.xlabel('Happiness Rank')\n",
    "plt.title('Country Happiness vs GDP over 5 Years')\n",
    "plt.grid(b=True)\n",
    "plt.gca().invert_xaxis()\n",
    "\n",
    "\n",
    "plt.savefig('Images/Country Happiness vs GDP over 5 Years.png', dpi=300, bbox_inches='tight')\n",
    "plt.show()"
   ]
  },
  {
   "cell_type": "code",
   "execution_count": null,
   "metadata": {},
   "outputs": [],
   "source": [
    "gdp_sort = happiness_df.sort_values(by='Economy (GDP per Capita)', ascending=False)\n",
    "gdp_sort.head(10)"
   ]
  },
  {
   "cell_type": "code",
   "execution_count": null,
   "metadata": {},
   "outputs": [],
   "source": [
    "x = [1,2,3,4,5,6]\n",
    "y = [3,4,5,6,7,8]\n",
    "\n",
    "plt.plot(x[1:], y[1:], 'ro')\n",
    "plt.plot(x[0], y[0], 'g*')\n",
    "\n",
    "plt.show()"
   ]
  },
  {
   "cell_type": "code",
   "execution_count": null,
   "metadata": {},
   "outputs": [],
   "source": [
    "y = happiness_df['Social Support']\n",
    "x = happiness_df['Happiness Rank']\n",
    "\n",
    "xy = np.vstack([x,y])\n",
    "\n",
    "z = gaussian_kde(xy)(xy)\n",
    "\n",
    "plt.figure(figsize=(10,6))\n",
    "\n",
    "plt.scatter(x, y, c=z, s=50, edgecolor='')\n",
    "\n",
    "plt.ylabel('Social Support')\n",
    "plt.xlabel('Happiness Rank')\n",
    "plt.title('Country Happiness vs Social Support')\n",
    "plt.grid(b=True)\n",
    "plt.gca().invert_xaxis()\n",
    "\n",
    "plt.show()"
   ]
  },
  {
   "cell_type": "code",
   "execution_count": null,
   "metadata": {},
   "outputs": [],
   "source": [
    "y = happiness_df['Health (Life Expectancy)']\n",
    "x = happiness_df['Happiness Rank']\n",
    "\n",
    "xy = np.vstack([x,y])\n",
    "\n",
    "z = gaussian_kde(xy)(xy)\n",
    "\n",
    "plt.figure(figsize=(10,6))\n",
    "\n",
    "plt.scatter(x, y, c=z, s=50, edgecolor='')\n",
    "\n",
    "plt.ylabel('Health (Life Expectancy)')\n",
    "plt.xlabel('Happiness Rank')\n",
    "plt.title('Country Happiness vs Health (Life Expectancy)')\n",
    "plt.grid(b=True)\n",
    "plt.gca().invert_xaxis()\n",
    "\n",
    "plt.show()"
   ]
  },
  {
   "cell_type": "code",
   "execution_count": null,
   "metadata": {},
   "outputs": [],
   "source": [
    "y = happiness_df['Freedom']\n",
    "x = happiness_df['Happiness Rank']\n",
    "\n",
    "xy = np.vstack([x,y])\n",
    "\n",
    "z = gaussian_kde(xy)(xy)\n",
    "\n",
    "plt.figure(figsize=(10,6))\n",
    "\n",
    "plt.scatter(x, y, c=z, s=50, edgecolor='')\n",
    "\n",
    "plt.ylabel('Freedom')\n",
    "plt.xlabel('Happiness Rank')\n",
    "plt.title('Country Happiness vs Freedom')\n",
    "plt.grid(b=True)\n",
    "plt.gca().invert_xaxis()\n",
    "\n",
    "plt.show()"
   ]
  },
  {
   "cell_type": "code",
   "execution_count": null,
   "metadata": {},
   "outputs": [],
   "source": [
    "y = happiness_df['Generosity']\n",
    "x = happiness_df['Happiness Rank']\n",
    "\n",
    "xy = np.vstack([x,y])\n",
    "\n",
    "z = gaussian_kde(xy)(xy)\n",
    "\n",
    "plt.figure(figsize=(10,6))\n",
    "\n",
    "plt.scatter(x, y, c=z, s=50, edgecolor='')\n",
    "\n",
    "plt.ylabel('Generosity')\n",
    "plt.xlabel('Happiness Rank')\n",
    "plt.title('Country Happiness vs Generosity')\n",
    "plt.grid(b=True)\n",
    "plt.gca().invert_xaxis()\n",
    "\n",
    "plt.show()"
   ]
  },
  {
   "cell_type": "code",
   "execution_count": null,
   "metadata": {},
   "outputs": [],
   "source": [
    "sorted_regions = region_medians.sort_values(by=['Generosity'])\n",
    "sorted_regions\n",
    "y = sorted_regions['Generosity']\n",
    "x = sorted_regions['Region']\n",
    "\n",
    "xy = np.vstack([x,y])\n",
    "\n",
    "\n",
    "\n",
    "plt.figure(figsize=(10,6))\n",
    "\n",
    "plt.barh(x, y)\n",
    "\n",
    "plt.ylabel('Region')\n",
    "plt.xlabel('Mean Generosity')\n",
    "plt.title('Region vs Mean Generosity')\n",
    "plt.grid(b=True)\n",
    "\n",
    "\n",
    "\n",
    "plt.show()"
   ]
  },
  {
   "cell_type": "code",
   "execution_count": null,
   "metadata": {},
   "outputs": [],
   "source": [
    "# Group dataframe by Region\n",
    "region_data = happiness_df.groupby(['Region'])\n",
    "\n",
    "# Find averages\n",
    "region_avgs = region_data.mean().sort_values(['Year', 'Region']).reset_index()\n",
    "region_avgs\n",
    "\n",
    "region_avgs.to_csv('Resources/region_grouped.csv', encoding='utf-8', index=False)"
   ]
  },
  {
   "cell_type": "code",
   "execution_count": null,
   "metadata": {},
   "outputs": [],
   "source": []
  },
  {
   "cell_type": "markdown",
   "metadata": {},
   "source": [
    "region_medians"
   ]
  },
  {
   "cell_type": "code",
   "execution_count": null,
   "metadata": {},
   "outputs": [],
   "source": []
  },
  {
   "cell_type": "code",
   "execution_count": null,
   "metadata": {},
   "outputs": [],
   "source": []
  },
  {
   "cell_type": "code",
   "execution_count": null,
   "metadata": {},
   "outputs": [],
   "source": []
  },
  {
   "cell_type": "code",
   "execution_count": null,
   "metadata": {},
   "outputs": [],
   "source": [
    "top_10_df[['Happiness Score', 'Economy (GDP per Capita)']].corr()"
   ]
  },
  {
   "cell_type": "code",
   "execution_count": null,
   "metadata": {},
   "outputs": [],
   "source": [
    "bottom_10_df[['Happiness Score', 'Economy (GDP per Capita)']].corr()"
   ]
  },
  {
   "cell_type": "code",
   "execution_count": null,
   "metadata": {},
   "outputs": [],
   "source": []
  }
 ],
 "metadata": {
  "kernelspec": {
   "display_name": "Python 3",
   "language": "python",
   "name": "python3"
  },
  "language_info": {
   "codemirror_mode": {
    "name": "ipython",
    "version": 3
   },
   "file_extension": ".py",
   "mimetype": "text/x-python",
   "name": "python",
   "nbconvert_exporter": "python",
   "pygments_lexer": "ipython3",
   "version": "3.6.10"
  }
 },
 "nbformat": 4,
 "nbformat_minor": 4
}
